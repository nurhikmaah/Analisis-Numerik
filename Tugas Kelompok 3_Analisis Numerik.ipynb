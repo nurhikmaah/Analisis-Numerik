{
 "cells": [
  {
   "cell_type": "markdown",
   "id": "7ac3aae7",
   "metadata": {},
   "source": [
    "# Metode Regula Falsi (Metode Palsu)"
   ]
  },
  {
   "cell_type": "markdown",
   "id": "794ce638",
   "metadata": {},
   "source": [
    "### Nama Kelompok 3: \n",
    " 1. Ni Kadek Kleo Dwi Handayani (2208541005)\n",
    " 2. Amelia Nur Humairoh (2208541016)\n",
    " 3. Ni Kadek Wulanda Asmara Santhi (2208541017)\n",
    " 4. Nur Hikmah (2208541019)\n",
    " 5. Ni Luh Putu Gita Herlina Sari (2208541025)\n",
    " 6. Riztha Ferryanthi Maulinda (2208541042)\n",
    " 7. Ruth Sani Manik (2208541028)\n",
    " 8. I Komang Tritmaja Putra (2208541045)"
   ]
  },
  {
   "cell_type": "markdown",
   "id": "5429fce8",
   "metadata": {},
   "source": [
    "Code ini kami dapatkan dari Github \"Lingtang Pratama\" dengan link \n",
    "(https://lintangpratama.medium.com/metode-numerikimplementasi-9e36acab818d)"
   ]
  },
  {
   "cell_type": "code",
   "execution_count": 3,
   "id": "8ca355bc",
   "metadata": {},
   "outputs": [
    {
     "name": "stdout",
     "output_type": "stream",
     "text": [
      "--------------------\n",
      "n                    a                    b                    x                    f(x)/toleransi      \n",
      "--------------------\n",
      "1                    2                    6                    4                    -4                  \n",
      "\n",
      "2                    4                    6                    5                    -1                  \n",
      "\n",
      "3                    5                    6                    5.2                  -0.16               \n",
      "\n",
      "4                    5.2                  6                    5.2307692            -0.023668639        \n",
      "\n",
      "5                    5.2307692            6                    5.2352941            -0.0034602076       \n",
      "\n",
      "\n",
      "Nilai x didapatkan pada saat iterasi ke 5, dengan nilai x = 5.235955056179776\n"
     ]
    }
   ],
   "source": [
    "#import modul math dan numpy.\n",
    "import math #digunakan untuk fungsi - fungsi matematika dasar seperti pangkat dan akar.\n",
    "import numpy as np #digunakan untuk operasi - operasi numerik yang lebih kompleks. \n",
    "\n",
    "#definisi untuk fungsi f(x) yang akan di cari solusi atau akarnya. \n",
    "def f(x): \n",
    "    f = math.pow(x,2) - 6*x + 4\n",
    "    return f\n",
    "\n",
    "#definisi fungsi untuk metode RegulaFalsi dengan mengambil parameter (a,b) yaitu batas bawah (a) dan batas atas (b), nilai toleransi untuk error dan n sebagai jumlah iterasi maksimum yang diizinkan. \n",
    "def regulaFalsi(a, b, toleransi, n):\n",
    "    i = 0 #variabel ini sebagai iterasi ke-0.\n",
    "    fa = f(a) #menghitung nilai fungsi f(x) pada titik awal a.\n",
    "    fb = f(b) #menghitung nilai fungsi f(x) pada titik awal b.\n",
    "    print(\"-\" * 20) #menampilkan garis putus - putus sepanjang 20 karakter.\n",
    "    print(\"%-20s %-20s %-20s %-20s %-20s\" % (\"n\", \"a\", \"b\", \"x\", \"f(x)/toleransi\")) #menampilkan header tabel dengan meggunakan formatting string.\n",
    "    print(\"-\" * 20) #menampilkan garis putus - putus untuk menutup header tabel dengan panjang yang sama seperti garis pertama. \n",
    "    \n",
    "    #dilakukan iterasi sampai dengan n yang diinginkan\n",
    "    while(i <= n): #Iterasi dimulai. Loop ini akan berjalan selama iterasi i kurang dari atau sama dengan n (jumlah maksimum iterasi).\n",
    "        x = (a * f(b) - b * f(a)) / (f(b) - f(a)) #rumus regula Falsi untuk menghitung nilai baru \"x\" pada setiap iterasi.\n",
    "        i += 1 #berarti nilai iterasi (i) ditambah satu setiap kali loop iterasi selesai.\n",
    "        \n",
    "        #jika f(x) = 0 atau akar telah ditemukan program akan berhenti.\n",
    "        #jika f(x) < angka toleransi program akan berhenti. Artinya nilai toleransi/error telah dicapai.\n",
    "        if (f(x) == 0 or np.abs(f(x)) < toleransi):\n",
    "            print(f\"\\nNilai x didapatkan pada saat iterasi ke {i-1}, dengan nilai x = {x}\")\n",
    "            break\n",
    "        \n",
    "        #jika tidak maka iterasi akan terus berjalan sampai keadaan di atas.\n",
    "        else:\n",
    "            print(\"%-20.8g %-20.8g %-20.8g %-20.8g %-20.8g\\n\" % (i, a, b, x, f(x)))\n",
    "        \n",
    "        #syarat metode tertutup, pada kasus ini Regula Falsi.\n",
    "        if (fa*f(x) > 0):\n",
    "            a = x\n",
    "            fa = f(x) #update nilai f(a) = f(x)\n",
    "        else:\n",
    "            b = x\n",
    "            fb = f(x) #update nilai f(b) = f(x)\n",
    "\n",
    "#contoh pemanggilan fungsi regulaFalsi dengan nilai-nilai a = 2, b = 6, toleransi = 0.001, dan maksimal iterasi n = 10\n",
    "regulaFalsi(2, 6, 0.001, 10)"
   ]
  },
  {
   "cell_type": "code",
   "execution_count": null,
   "id": "d9f9d97d",
   "metadata": {},
   "outputs": [],
   "source": []
  }
 ],
 "metadata": {
  "kernelspec": {
   "display_name": "Python 3 (ipykernel)",
   "language": "python",
   "name": "python3"
  },
  "language_info": {
   "codemirror_mode": {
    "name": "ipython",
    "version": 3
   },
   "file_extension": ".py",
   "mimetype": "text/x-python",
   "name": "python",
   "nbconvert_exporter": "python",
   "pygments_lexer": "ipython3",
   "version": "3.9.13"
  }
 },
 "nbformat": 4,
 "nbformat_minor": 5
}
